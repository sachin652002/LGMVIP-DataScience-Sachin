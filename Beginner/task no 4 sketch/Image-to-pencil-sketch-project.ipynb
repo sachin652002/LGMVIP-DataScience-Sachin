{
 "cells": [
  {
   "cell_type": "markdown",
   "id": "24880f5d",
   "metadata": {},
   "source": [
    "# Lets Grow More (LGMVIP) - \"DATA SCIENCE INTERN\"\n"
   ]
  },
  {
   "cell_type": "markdown",
   "id": "91b0f647",
   "metadata": {},
   "source": [
    "# LGMVIP APRIL-22"
   ]
  },
  {
   "cell_type": "markdown",
   "id": "fccb0d41",
   "metadata": {},
   "source": [
    "## AUTHOR - SACHIN PATIL"
   ]
  },
  {
   "cell_type": "markdown",
   "id": "32e63d98",
   "metadata": {},
   "source": [
    "## BEGINNER LEVEL TASK"
   ]
  },
  {
   "cell_type": "markdown",
   "id": "6f85c500",
   "metadata": {},
   "source": [
    "## TASK-3- Image to Pencil Sketch with Python:"
   ]
  },
  {
   "cell_type": "markdown",
   "id": "d91239f8",
   "metadata": {},
   "source": [
    "We need to read the image in RBG format and then convert it to a grayscale image. This will turn an image into a classic black and white photo. Then the next thing to do is invert the grayscale image also called negative image, this will be our inverted grayscale image. Inversion can be used to enhance details. Then we can finally create the pencil sketch by mixing the grayscale image with the inverted blurry image. This can be done by dividing the grayscale image by the inverted blurry image. Since images are just arrays, we can easily do this programmatically using the divide function from the cv2 library in Python."
   ]
  },
  {
   "cell_type": "markdown",
   "id": "3f285805",
   "metadata": {},
   "source": [
    "## For this task i'm using two images, first one is of a bird and second one is of a girl"
   ]
  },
  {
   "cell_type": "markdown",
   "id": "eedd507b",
   "metadata": {},
   "source": [
    "# Importing openCV2 Library\n"
   ]
  },
  {
   "cell_type": "code",
   "execution_count": 1,
   "id": "955a118b",
   "metadata": {},
   "outputs": [],
   "source": [
    "import cv2\n"
   ]
  },
  {
   "cell_type": "code",
   "execution_count": 2,
   "id": "8d8fcfd7",
   "metadata": {},
   "outputs": [
    {
     "data": {
      "text/plain": [
       "-1"
      ]
     },
     "execution_count": 2,
     "metadata": {},
     "output_type": "execute_result"
    }
   ],
   "source": [
    "image1 = cv2.imread(\"Beautiful Bird.jpg\")\n",
    "cv2.imshow(\"Beautiful Bird\", image1)\n",
    "cv2.waitKey(0)"
   ]
  },
  {
   "cell_type": "code",
   "execution_count": 3,
   "id": "c04eb96a",
   "metadata": {},
   "outputs": [
    {
     "data": {
      "text/plain": [
       "-1"
      ]
     },
     "execution_count": 3,
     "metadata": {},
     "output_type": "execute_result"
    }
   ],
   "source": [
    "image2 = cv2.imread(\"Baby girl.jfif\")\n",
    "cv2.imshow(\"Baby girl\", image2)\n",
    "cv2.waitKey(0)"
   ]
  },
  {
   "cell_type": "markdown",
   "id": "25292ee4",
   "metadata": {},
   "source": [
    "# Creating a new image by converting the original image to greyscale"
   ]
  },
  {
   "cell_type": "code",
   "execution_count": 4,
   "id": "064a7057",
   "metadata": {},
   "outputs": [
    {
     "data": {
      "text/plain": [
       "-1"
      ]
     },
     "execution_count": 4,
     "metadata": {},
     "output_type": "execute_result"
    }
   ],
   "source": [
    "gray_image1 = cv2.cvtColor(image1, cv2.COLOR_BGR2GRAY)\n",
    "cv2.imshow(\"New Beautiful Bird\", gray_image1)\n",
    "cv2.waitKey(0)\n"
   ]
  },
  {
   "cell_type": "code",
   "execution_count": 5,
   "id": "9fb22638",
   "metadata": {},
   "outputs": [
    {
     "data": {
      "text/plain": [
       "-1"
      ]
     },
     "execution_count": 5,
     "metadata": {},
     "output_type": "execute_result"
    }
   ],
   "source": [
    "gray_image2 = cv2.cvtColor(image2, cv2.COLOR_BGR2GRAY)\n",
    "cv2.imshow(\"New Baby girl\", gray_image2)\n",
    "cv2.waitKey(0)"
   ]
  },
  {
   "cell_type": "markdown",
   "id": "7fab7731",
   "metadata": {},
   "source": [
    "# Inverting the new grayscale image"
   ]
  },
  {
   "cell_type": "code",
   "execution_count": 6,
   "id": "28edbede",
   "metadata": {},
   "outputs": [
    {
     "data": {
      "text/plain": [
       "-1"
      ]
     },
     "execution_count": 6,
     "metadata": {},
     "output_type": "execute_result"
    }
   ],
   "source": [
    "inverted_image1 = 255 - gray_image1\n",
    "cv2.imshow(\"Inverted1\", inverted_image1)\n",
    "cv2.waitKey()"
   ]
  },
  {
   "cell_type": "code",
   "execution_count": 7,
   "id": "082259b9",
   "metadata": {},
   "outputs": [
    {
     "data": {
      "text/plain": [
       "-1"
      ]
     },
     "execution_count": 7,
     "metadata": {},
     "output_type": "execute_result"
    }
   ],
   "source": [
    "inverted_image2 = 255 - gray_image2\n",
    "cv2.imshow(\"Inverted2\", inverted_image2)\n",
    "cv2.waitKey()"
   ]
  },
  {
   "cell_type": "markdown",
   "id": "94d7a852",
   "metadata": {},
   "source": [
    "# Bluring the image by using the Gaussian Function in OpenCV"
   ]
  },
  {
   "cell_type": "code",
   "execution_count": 8,
   "id": "7cb1d5ed",
   "metadata": {},
   "outputs": [],
   "source": [
    "blurred1 = cv2.GaussianBlur(inverted_image1, (21, 21), 0)"
   ]
  },
  {
   "cell_type": "code",
   "execution_count": 9,
   "id": "d77f6367",
   "metadata": {},
   "outputs": [],
   "source": [
    "blurred2 = cv2.GaussianBlur(inverted_image2, (21, 21), 0)"
   ]
  },
  {
   "cell_type": "markdown",
   "id": "84bdfdb4",
   "metadata": {},
   "source": [
    "# Inverting the blurred image and then we can easily convert the image into a pencil sketch"
   ]
  },
  {
   "cell_type": "code",
   "execution_count": 10,
   "id": "9b9033d4",
   "metadata": {},
   "outputs": [
    {
     "data": {
      "text/plain": [
       "-1"
      ]
     },
     "execution_count": 10,
     "metadata": {},
     "output_type": "execute_result"
    }
   ],
   "source": [
    "inverted_blurred1 = 255 - blurred1\n",
    "pencil_sketch1 = cv2.divide(gray_image1, inverted_blurred1, scale=256.0)\n",
    "cv2.imshow(\"Sketch1\", pencil_sketch1)\n",
    "cv2.waitKey(0)"
   ]
  },
  {
   "cell_type": "code",
   "execution_count": 11,
   "id": "f16360da",
   "metadata": {},
   "outputs": [
    {
     "data": {
      "text/plain": [
       "-1"
      ]
     },
     "execution_count": 11,
     "metadata": {},
     "output_type": "execute_result"
    }
   ],
   "source": [
    "inverted_blurred2 = 255 - blurred2\n",
    "pencil_sketch2 = cv2.divide(gray_image2, inverted_blurred2, scale=256.0)\n",
    "cv2.imshow(\"Sketch2\", pencil_sketch2)\n",
    "cv2.waitKey(0)\n"
   ]
  },
  {
   "cell_type": "markdown",
   "id": "3df8f357",
   "metadata": {},
   "source": [
    "# looking at both the original image and the pencil sketch"
   ]
  },
  {
   "cell_type": "code",
   "execution_count": 13,
   "id": "ce70398a",
   "metadata": {},
   "outputs": [
    {
     "data": {
      "text/plain": [
       "-1"
      ]
     },
     "execution_count": 13,
     "metadata": {},
     "output_type": "execute_result"
    }
   ],
   "source": [
    "cv2.imshow(\"original image1\", image1)\n",
    "cv2.imshow(\"pencil sketch1\", pencil_sketch1)\n",
    "cv2.waitKey(0)"
   ]
  },
  {
   "cell_type": "code",
   "execution_count": 14,
   "id": "47e70f4b",
   "metadata": {},
   "outputs": [
    {
     "data": {
      "text/plain": [
       "-1"
      ]
     },
     "execution_count": 14,
     "metadata": {},
     "output_type": "execute_result"
    }
   ],
   "source": [
    "cv2.imshow(\"original image2\", image2)\n",
    "cv2.imshow(\"pencil sketch2\", pencil_sketch2)\n",
    "cv2.waitKey(0)"
   ]
  }
 ],
 "metadata": {
  "kernelspec": {
   "display_name": "Python 3 (ipykernel)",
   "language": "python",
   "name": "python3"
  },
  "language_info": {
   "codemirror_mode": {
    "name": "ipython",
    "version": 3
   },
   "file_extension": ".py",
   "mimetype": "text/x-python",
   "name": "python",
   "nbconvert_exporter": "python",
   "pygments_lexer": "ipython3",
   "version": "3.10.1"
  }
 },
 "nbformat": 4,
 "nbformat_minor": 5
}
